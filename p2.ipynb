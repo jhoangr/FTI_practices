{
 "cells": [
  {
   "cell_type": "code",
   "execution_count": 140,
   "metadata": {},
   "outputs": [],
   "source": [
    "# IMPORTANT!!!\n",
    "# [1] Introduïu les dades sobre el vostre grup en el format especificat.\n",
    "# [2] Desar la pràctica posant els NIUs dels membres del grup\n",
    "# [3] És imprescindible que el worksheet es pugui avaluar completament (Cell->Run All) sense que es produeixi cap error de sintaxi. \n",
    "# [4] Cal lliurar el worksheet ABANS de finalitzar la vostra sessió de pràctiques.\n",
    "# [5] No s'avaluaran worksheets que no compleixin els requisits anteriors.\n",
    "\n",
    "# El format del grup hauria de ser una lletra en majúscules seguida d'un número, per exemple, \"E5\"\n",
    "GROUP = \"d5\"\n",
    "\n",
    "NIU_ESTUDIANT_1 = 1502226\n",
    "NOM_ESTUDIANT_1 = \"Edgard Daniel Felipe Polo\"\n",
    "\n",
    "NIU_ESTUDIANT_2 = None\n",
    "NOM_ESTUDIANT_2 = \"\""
   ]
  },
  {
   "cell_type": "code",
   "execution_count": 141,
   "metadata": {},
   "outputs": [
    {
     "name": "stdout",
     "output_type": "stream",
     "text": [
      "F2:\n",
      "Finite Field of size 2\n",
      "v:\n",
      "(1, 0, 1, 1)\n",
      "v.list():\n",
      "[1, 0, 1, 1]\n",
      "G:\n",
      "[0 1 0 1 0]\n",
      "[0 1 1 1 0]\n",
      "[0 0 1 0 1]\n",
      "[0 1 0 0 1]\n",
      "C:\n",
      "[5, 4] linear code over GF(2)\n",
      "Z2X:\n",
      "Univariate Polynomial Ring in x over Finite Field of size 2 (using GF2X)\n",
      "pX:\n",
      "x^5 + x^4 + x^2 + 1\n",
      "pX:\n",
      "x^3 + x^2 + 1\n",
      "pX.shift(2):\n",
      "x^5 + x^4 + x^2\n",
      "pX.shift(-1):\n",
      "x^2 + x\n",
      "qX:\n",
      "x^4 + x^2 + x + 1\n",
      "True\n",
      "qX.is_irreducible():\n",
      "False\n",
      "qX.factor():\n",
      "(x + 1) * (x^3 + x^2 + 1)\n",
      "C:\n",
      "[3, 2] Cyclic Code over GF(2)\n",
      "S:\n",
      "set([(1, 1, 0), (0, 0, 0), (1, 0, 1), (0, 1, 1)])\n"
     ]
    }
   ],
   "source": [
    "# EXERCISE 1: Introduction to codes in sage\n",
    "\n",
    "# Necessitem definir un cos base: \n",
    "F2 = GF(2)\n",
    "print \"F2:\"\n",
    "print F2\n",
    "\n",
    "# Es pot definir una paraula-codi com un vector: \n",
    "v = vector(GF(2),[1, 0, 1, 1])\n",
    "print \"v:\"\n",
    "print v\n",
    "\n",
    "# I convertir un vector a una llista: \n",
    "print \"v.list():\"\n",
    "print v.list()\n",
    "\n",
    "# Podem definir una matriu,\n",
    "G = matrix(F2, [(0,1,0,1,0),(0,1,1,1,0),(0,0,1,0,1),(0,1,0,0,1)])\n",
    "print \"G:\"\n",
    "print G\n",
    "\n",
    "# I el codi lineal amb aquesta matriu generadora: \n",
    "C = LinearCode(G)\n",
    "print \"C:\"\n",
    "print C\n",
    "\n",
    "# Construcció de l’anell de polinomis sobre GF(2): \n",
    "Z2X.<x> = PolynomialRing(F2)\n",
    "print \"Z2X:\"\n",
    "print Z2X\n",
    "\n",
    "# Definir un polinomi amb coeficients a GF(2): \n",
    "pX = Z2X(1+x^2+x^4+x^5)\n",
    "print \"pX:\"\n",
    "print pX\n",
    "\n",
    "# Alternativament:\n",
    "pX = Z2X([1,0,1,1])\n",
    "print \"pX:\"\n",
    "print pX\n",
    "\n",
    "# Desplaçament dels coeficients d’un polinomi (multiplicar per x^2): \n",
    "print \"pX.shift(2):\"\n",
    "print pX.shift(2)\n",
    "\n",
    "# També en l’altre sentit (dividir per x), \n",
    "print \"pX.shift(-1):\"\n",
    "print pX.shift(-1)\n",
    "\n",
    "# Operar amb polinomis: \n",
    "qX = pX*(x+1)\n",
    "print \"qX:\"\n",
    "print qX\n",
    "\n",
    "# Comprovar si un polinomi és irreductible: \n",
    "print pX.is_irreducible()\n",
    "print \"qX.is_irreducible():\"\n",
    "print qX.is_irreducible()\n",
    "\n",
    "# I si no ho és, descomposar-lo en factors: \n",
    "print \"qX.factor():\"\n",
    "print qX.factor()\n",
    "\n",
    "# Construir un codi cíclic de longitud 3 i polinomi generador x+1: \n",
    "C = codes.CyclicCode(x+1, 3)\n",
    "print \"C:\"\n",
    "print C\n",
    "# Conjunt amb les paraules d'un codi cíclic\n",
    "S = set(C.list())\n",
    "print \"S:\"\n",
    "print S"
   ]
  },
  {
   "cell_type": "code",
   "execution_count": 142,
   "metadata": {},
   "outputs": [],
   "source": [
    "# EXERCISE 2a: Implement a right cyclic shift\n",
    "\n",
    "# Function UAB_right_shift.\n",
    "# * Parameter n: Integer, number of places to shift (>= 0)\n",
    "# * Parameter L: List, list with values to shift\n",
    "# * Returns: shifted list\n",
    "#\n",
    "def UAB_right_shift(n, L):\n",
    "    \n",
    "    result = None\n",
    "    \n",
    "    #### IMPLEMENTATION GOES HERE ####\n",
    "    if n == 0: return L\n",
    "    result = L\n",
    "    for i in range(n): #number of shifts\n",
    "        aux = [result[-1]] #0 = N-1 element\n",
    "        for j in range(0, len(result[1:])): #Copy from 0 to N-2\n",
    "            aux.append(result[j])\n",
    "        result = aux\n",
    "    ##################################\n",
    "    \n",
    "    return result"
   ]
  },
  {
   "cell_type": "code",
   "execution_count": 143,
   "metadata": {
    "scrolled": true
   },
   "outputs": [
    {
     "name": "stdout",
     "output_type": "stream",
     "text": [
      "Equivalents:  True\n",
      "M1:  4 3 7\n",
      "M2:  4 3 7\n"
     ]
    }
   ],
   "source": [
    "# EXERCISE 2b: Generate the two codes and check they are equivalent. Show length, dimension and minimum distance of the generated code\n",
    "\n",
    "#### IMPLEMENTATION GOES HERE ####\n",
    "\n",
    "v = [0, 0, 1, 1, 0, 1, 0]\n",
    "M1 = codes.LinearCode(matrix(GF(2), [vector(GF(2), UAB_right_shift(i, v)) for i in range(0, len(v))]))\n",
    "M2 = codes.CyclicCode(x^3 + x + 1, len(v))\n",
    "#Potser els vectors es troben en un ordre diferent\n",
    "count = 0\n",
    "for i in range(len(v)):\n",
    "    count += ( (M1[i] in M2) or (M2[i] in M1) )\n",
    "print \"Equivalents: \", count == len(v) #Totes coincideixen\n",
    "print \"M1: \", M1.dimension(), M1.minimum_distance(), len(M1[0])\n",
    "print \"M2: \", M2.dimension(), M2.minimum_distance(), len(M2[0])\n",
    "\n",
    "##################################"
   ]
  },
  {
   "cell_type": "code",
   "execution_count": 144,
   "metadata": {},
   "outputs": [
    {
     "name": "stdout",
     "output_type": "stream",
     "text": [
      "g1 is irreducible: True\n",
      "g2 is irreducible: True\n",
      "Code generated by g1 exists: True residual: 0\n",
      "Code generated by g2 exists: False residual: x + 1\n"
     ]
    }
   ],
   "source": [
    "# EXERCISE 3: Check code existence\n",
    "\n",
    "#### IMPLEMENTATION GOES HERE ####\n",
    "\n",
    "n = 15\n",
    "\n",
    "g1 = Z2X(1+x+x^4)\n",
    "g2 = Z2X(1+x^2+x^3)\n",
    "Class15 = Z2X(1 + x^n)\n",
    "print \"g1 is irreducible:\", g1.is_irreducible()\n",
    "print \"g2 is irreducible:\", g2.is_irreducible()\n",
    "#Polinomi generador equivalent\n",
    "r1 = Z2X(Class15 - g1 * (Class15 // g1))\n",
    "print \"Code generated by g1 exists:\", r1 == 0, \"residual:\", r1\n",
    "r2 = Z2X(Class15 - g2 * (Class15 // g2))\n",
    "print \"Code generated by g2 exists:\", r2 == 0, \"residual:\", r2\n",
    "################################"
   ]
  },
  {
   "cell_type": "code",
   "execution_count": 145,
   "metadata": {},
   "outputs": [
    {
     "name": "stdout",
     "output_type": "stream",
     "text": [
      "4\n"
     ]
    }
   ],
   "source": [
    "# EXERCISE 4: How many cíclic binary codes with length 15 exist?\n",
    "\n",
    "#### IMPLEMENTATION GOES HERE ####\n",
    "#Tants com polinomis que generin codis amb lenght 15 hi hagin\n",
    "n = 15\n",
    "Class15 = Z2X(1 + x^n)\n",
    "Reals = 0\n",
    "PolyCoef = [0 for i in range(n)]\n",
    "PolyCoef[0] = 1\n",
    "for i in range(1, n):\n",
    "    Poly = Z2X(PolyCoef)\n",
    "    res = Z2X(Class15 - Poly * (Class15 // Poly))\n",
    "    if res == 0:\n",
    "        Reals += 1\n",
    "    PolyCoef[i] = 1\n",
    "print Reals\n",
    "################################"
   ]
  },
  {
   "cell_type": "code",
   "execution_count": 146,
   "metadata": {
    "scrolled": true
   },
   "outputs": [
    {
     "name": "stdout",
     "output_type": "stream",
     "text": [
      "Polinomi generador minim: x^3 + 1\n",
      "Codi cíclic:\n",
      "[1 0 0 1 0 0 0 0 0 0 0 0 0 0 0]\n",
      "[0 1 0 0 1 0 0 0 0 0 0 0 0 0 0]\n",
      "[0 0 1 0 0 1 0 0 0 0 0 0 0 0 0]\n",
      "[0 0 0 1 0 0 1 0 0 0 0 0 0 0 0]\n",
      "[0 0 0 0 1 0 0 1 0 0 0 0 0 0 0]\n",
      "[0 0 0 0 0 1 0 0 1 0 0 0 0 0 0]\n",
      "[0 0 0 0 0 0 1 0 0 1 0 0 0 0 0]\n",
      "[0 0 0 0 0 0 0 1 0 0 1 0 0 0 0]\n",
      "[0 0 0 0 0 0 0 0 1 0 0 1 0 0 0]\n",
      "[0 0 0 0 0 0 0 0 0 1 0 0 1 0 0]\n",
      "[0 0 0 0 0 0 0 0 0 0 1 0 0 1 0]\n",
      "[0 0 0 0 0 0 0 0 0 0 0 1 0 0 1]\n"
     ]
    }
   ],
   "source": [
    "# EXERCISE 5: Which is the smallest ciclic code of length 15 that contains the given code-word?\n",
    "\n",
    "#### IMPLEMENTATION GOES HERE ####\n",
    "\n",
    "n = 15\n",
    "Class15 = Z2X(1 + x^n)\n",
    "v = Z2X((1,1,0,1,1,0,0,0,0,0,0,0,0,0,0))\n",
    "g = Z2X(v.gcd(Class15))\n",
    "coef = g.coefficients(sparse=False)\n",
    "l = len(coef)\n",
    "for i in range(l, n):\n",
    "    coef.append(0)\n",
    "full_g = coef\n",
    "print \"Polinomi generador minim:\", g\n",
    "print \"Codi cíclic:\"\n",
    "print matrix(GF(2), [vector(GF(2), UAB_right_shift(i, vector(GF(2), full_g))) for i in range(n - g.degree())])\n",
    "################################"
   ]
  },
  {
   "cell_type": "code",
   "execution_count": 147,
   "metadata": {},
   "outputs": [
    {
     "name": "stdout",
     "output_type": "stream",
     "text": [
      "Generator: x^4 + x + 1\n",
      "Control: x^11 + x^8 + x^7 + x^5 + x^3 + x^2 + x + 1\n",
      "Reciproc: x^11 + x^10 + x^9 + x^8 + x^6 + x^4 + x^3 + 1\n"
     ]
    }
   ],
   "source": [
    "# EXERCISE 6: Compute h(x), h*(x)\n",
    "\n",
    "#### IMPLEMENTATION GOES HERE ####\n",
    "n = 15\n",
    "g = 1 + x + x^4\n",
    "h = Z2X((x^n + 1) / g)\n",
    "hr = h.coefficients(sparse=False)\n",
    "hr.reverse()\n",
    "hr = Z2X(hr)\n",
    "print \"Generator:\", g\n",
    "print \"Control:\", h\n",
    "print \"Reciproc:\", hr\n",
    "################################"
   ]
  },
  {
   "cell_type": "code",
   "execution_count": 148,
   "metadata": {},
   "outputs": [],
   "source": [
    "# EXERCISE 7a: Compute the generator matrix\n",
    "\n",
    "# Function UAB_gen_matrix.\n",
    "# * Parameter g: generator polynomial\n",
    "# * Parameter n: Integer, length of the code\n",
    "# * Returns: generator matrix\n",
    "#\n",
    "\n",
    "def UAB_gen_matrix(g, n):\n",
    "    \n",
    "    G = None\n",
    "    \n",
    "    #### IMPLEMENTATION GOES HERE ####\n",
    "    coefs = g.coefficients(sparse=False)\n",
    "    auxshift = coefs\n",
    "    for i in range(len(coefs), n):\n",
    "        auxshift.append(0) #Fill\n",
    "    G = matrix(GF(2), [vector(GF(2), UAB_right_shift(i, auxshift)) for i in range(0, n - g.degree())])\n",
    "    \n",
    "    ##################################\n",
    "    \n",
    "    return G"
   ]
  },
  {
   "cell_type": "code",
   "execution_count": 149,
   "metadata": {},
   "outputs": [
    {
     "name": "stdout",
     "output_type": "stream",
     "text": [
      "From  x^4 + x + 1 :\n",
      "[1 1 0 0 1 0 0 0 0 0 0 0 0 0 0]\n",
      "[0 1 1 0 0 1 0 0 0 0 0 0 0 0 0]\n",
      "[0 0 1 1 0 0 1 0 0 0 0 0 0 0 0]\n",
      "[0 0 0 1 1 0 0 1 0 0 0 0 0 0 0]\n",
      "[0 0 0 0 1 1 0 0 1 0 0 0 0 0 0]\n",
      "[0 0 0 0 0 1 1 0 0 1 0 0 0 0 0]\n",
      "[0 0 0 0 0 0 1 1 0 0 1 0 0 0 0]\n",
      "[0 0 0 0 0 0 0 1 1 0 0 1 0 0 0]\n",
      "[0 0 0 0 0 0 0 0 1 1 0 0 1 0 0]\n",
      "[0 0 0 0 0 0 0 0 0 1 1 0 0 1 0]\n",
      "[0 0 0 0 0 0 0 0 0 0 1 1 0 0 1]\n",
      "\n",
      "From  x^6 + x^5 + x^4 + x^3 + 1 :\n",
      "[1 0 0 1 1 1 1 0 0 0 0 0 0 0 0]\n",
      "[0 1 0 0 1 1 1 1 0 0 0 0 0 0 0]\n",
      "[0 0 1 0 0 1 1 1 1 0 0 0 0 0 0]\n",
      "[0 0 0 1 0 0 1 1 1 1 0 0 0 0 0]\n",
      "[0 0 0 0 1 0 0 1 1 1 1 0 0 0 0]\n",
      "[0 0 0 0 0 1 0 0 1 1 1 1 0 0 0]\n",
      "[0 0 0 0 0 0 1 0 0 1 1 1 1 0 0]\n",
      "[0 0 0 0 0 0 0 1 0 0 1 1 1 1 0]\n",
      "[0 0 0 0 0 0 0 0 1 0 0 1 1 1 1]\n"
     ]
    }
   ],
   "source": [
    "# EXERCISE 7b: Compute the generator matrix of the given polynomials\n",
    "\n",
    "#### IMPLEMENTATION GOES HERE ####\n",
    "\n",
    "g1 = 1 + x + x^4\n",
    "print \"From \", g1, \":\\n\", UAB_gen_matrix(g1, 15)\n",
    "\n",
    "g2 = x^6 + x^5 + x^4 + x^3 + 1\n",
    "print \"\\nFrom \", g2,\":\\n\", UAB_gen_matrix(g2, 15)\n",
    "\n",
    "##################################"
   ]
  },
  {
   "cell_type": "code",
   "execution_count": 155,
   "metadata": {},
   "outputs": [],
   "source": [
    "# EXERCISE 8a: Compute the control matrix\n",
    "\n",
    "# Function UAB_con_matrix.\n",
    "# * Parameter g: generator polynomial\n",
    "# * Parameter n: Integer, length of the code\n",
    "# * Returns: control matrix\n",
    "#\n",
    "\n",
    "def UAB_con_matrix(g, n):\n",
    "    \n",
    "    H = None\n",
    "    \n",
    "    #### IMPLEMENTATION GOES HERE ####\n",
    "    h_ctrl =  Z2X((1 + x^n) / g)\n",
    "    coefs = h_ctrl.coefficients(sparse=False)\n",
    "    coefs.reverse()\n",
    "    H = UAB_gen_matrix(Z2X(coefs), n)\n",
    "    ##################################\n",
    "    \n",
    "    return H"
   ]
  },
  {
   "cell_type": "code",
   "execution_count": 156,
   "metadata": {},
   "outputs": [
    {
     "name": "stdout",
     "output_type": "stream",
     "text": [
      "From  x^4 + x + 1 :\n",
      "[1 0 0 1 1 0 1 0 1 1 1 1 0 0 0]\n",
      "[0 1 0 0 1 1 0 1 0 1 1 1 1 0 0]\n",
      "[0 0 1 0 0 1 1 0 1 0 1 1 1 1 0]\n",
      "[0 0 0 1 0 0 1 1 0 1 0 1 1 1 1]\n",
      "\n",
      "From  x^6 + x^5 + x^4 + x^3 + 1 :\n",
      "[1 1 0 0 1 1 1 0 0 1 0 0 0 0 0]\n",
      "[0 1 1 0 0 1 1 1 0 0 1 0 0 0 0]\n",
      "[0 0 1 1 0 0 1 1 1 0 0 1 0 0 0]\n",
      "[0 0 0 1 1 0 0 1 1 1 0 0 1 0 0]\n",
      "[0 0 0 0 1 1 0 0 1 1 1 0 0 1 0]\n",
      "[0 0 0 0 0 1 1 0 0 1 1 1 0 0 1]\n"
     ]
    }
   ],
   "source": [
    "# EXERCISE 8b: Compute the control matrix of the given polynomials\n",
    "\n",
    "#### IMPLEMENTATION GOES HERE ####\n",
    "g1 = 1 + x + x^4\n",
    "print \"From \", g1, \":\\n\", UAB_con_matrix(g1, 15)\n",
    "g2 = x^6 + x^5 + x^4 + x^3 + 1\n",
    "print \"\\nFrom \", g2,\":\\n\", UAB_con_matrix(g2, 15)\n",
    "##################################"
   ]
  },
  {
   "cell_type": "code",
   "execution_count": 157,
   "metadata": {},
   "outputs": [
    {
     "name": "stdout",
     "output_type": "stream",
     "text": [
      "Test 2a.1: True\n",
      "Test 2a.2: True\n",
      "Test 2a.3: True\n",
      "Test 2a.4: True\n",
      "Test 2a.5: True\n",
      "Test 2a.6: True\n",
      "Test 2a.7: True\n",
      "Test 2a.8: True\n",
      "Test 2a.9: True\n",
      "Test 2a.10: True\n",
      "Test 2a.11: True\n",
      "Test 2a.12: True\n"
     ]
    }
   ],
   "source": [
    "####################################################################################\n",
    "# TEST CASES EXERCICE 2a\n",
    "####################################################################################\n",
    "\n",
    "def test_case_2a(name, n, L, exp_output):    \n",
    "    r = UAB_right_shift(n, L)\n",
    "    print \"Test\", name + \":\", exp_output == r\n",
    "\n",
    "\n",
    "test_case_2a(\"2a.1\", 1, [1,1,1,1,1,1,0], [0,1,1,1,1,1,1]) \n",
    "test_case_2a(\"2a.2\", 2, [1,1,1,1,1,1,0], [1,0,1,1,1,1,1]) \n",
    "test_case_2a(\"2a.3\", 3, [1,1,1,1,1,1,0], [1,1,0,1,1,1,1]) \n",
    "test_case_2a(\"2a.4\", 4, [1,1,1,1,1,1,0], [1,1,1,0,1,1,1]) \n",
    "test_case_2a(\"2a.5\", 5, [1,1,1,1,1,1,0], [1,1,1,1,0,1,1]) \n",
    "test_case_2a(\"2a.6\", 6, [1,1,1,1,1,1,0], [1,1,1,1,1,0,1]) \n",
    "test_case_2a(\"2a.7\", 7, [1,1,1,1,1,1,0], [1,1,1,1,1,1,0]) \n",
    "test_case_2a(\"2a.8\", 5, [1,0,1,0,0,1,0,0,0], [0, 1, 0, 0, 0, 1, 0, 1, 0]) \n",
    "test_case_2a(\"2a.9\", 3, [1,0,1,0,0,1,0,0,0], [0, 0, 0, 1, 0, 1, 0, 0, 1]) \n",
    "test_case_2a(\"2a.10\", 0, [1,0,1,0,0,1,0,0,0], [1, 0, 1, 0, 0, 1, 0, 0, 0]) \n",
    "test_case_2a(\"2a.11\", 9, [1,0,1,0,0,1,0,0,0], [1, 0, 1, 0, 0, 1, 0, 0, 0]) \n",
    "test_case_2a(\"2a.12\", 10, [1,0,1,0,0,1,0,0,0,1,1,1,1,1,0,0,0,1], [0, 1, 1, 1, 1, 1, 0, 0, 0, 1, 1, 0, 1, 0, 0, 1, 0, 0])"
   ]
  },
  {
   "cell_type": "code",
   "execution_count": 158,
   "metadata": {
    "scrolled": true
   },
   "outputs": [
    {
     "name": "stdout",
     "output_type": "stream",
     "text": [
      "Test 7a.1: True\n",
      "Test 7a.2: True\n",
      "Test 7a.3: True\n",
      "Test 7a.4: True\n"
     ]
    }
   ],
   "source": [
    "####################################################################################\n",
    "# TEST CASES EXERCICE 7a\n",
    "####################################################################################\n",
    "\n",
    "def test_case_7a(name, g, n, exp_output):    \n",
    "    r = UAB_gen_matrix(g, n)\n",
    "    print \"Test\", name + \":\", exp_output == r\n",
    "    \n",
    "exp = matrix(GF(2), [[1,1,0,0,0,0,0,0,0,0,0,0,0,0,0],[0,1,1,0,0,0,0,0,0,0,0,0,0,0,0],[0,0,1,1,0,0,0,0,0,0,0,0,0,0,0],[0,0,0,1,1,0,0,0,0,0,0,0,0,0,0],[0,0,0,0,1,1,0,0,0,0,0,0,0,0,0],[0,0,0,0,0,1,1,0,0,0,0,0,0,0,0],[0,0,0,0,0,0,1,1,0,0,0,0,0,0,0],[0,0,0,0,0,0,0,1,1,0,0,0,0,0,0],[0,0,0,0,0,0,0,0,1,1,0,0,0,0,0],[0,0,0,0,0,0,0,0,0,1,1,0,0,0,0],[0,0,0,0,0,0,0,0,0,0,1,1,0,0,0],[0,0,0,0,0,0,0,0,0,0,0,1,1,0,0],[0,0,0,0,0,0,0,0,0,0,0,0,1,1,0],[0,0,0,0,0,0,0,0,0,0,0,0,0,1,1]])\n",
    "test_case_7a(\"7a.1\", Z2X(x+1), 15, exp) \n",
    "\n",
    "exp = matrix(GF(2), [[1,1,0,0,1,0,0,0,0,0,0,0,0,0,0],[0,1,1,0,0,1,0,0,0,0,0,0,0,0,0],[0,0,1,1,0,0,1,0,0,0,0,0,0,0,0],[0,0,0,1,1,0,0,1,0,0,0,0,0,0,0],[0,0,0,0,1,1,0,0,1,0,0,0,0,0,0],[0,0,0,0,0,1,1,0,0,1,0,0,0,0,0],[0,0,0,0,0,0,1,1,0,0,1,0,0,0,0],[0,0,0,0,0,0,0,1,1,0,0,1,0,0,0],[0,0,0,0,0,0,0,0,1,1,0,0,1,0,0],[0,0,0,0,0,0,0,0,0,1,1,0,0,1,0],[0,0,0,0,0,0,0,0,0,0,1,1,0,0,1]])\n",
    "test_case_7a(\"7a.2\", Z2X(x^4 + x + 1), 15, exp)\n",
    "\n",
    "exp = matrix(GF(2), [[1,0,0,1,1,0,0,0,0,0,0,0,0,0,0],[0,1,0,0,1,1,0,0,0,0,0,0,0,0,0],[0,0,1,0,0,1,1,0,0,0,0,0,0,0,0],[0,0,0,1,0,0,1,1,0,0,0,0,0,0,0],[0,0,0,0,1,0,0,1,1,0,0,0,0,0,0],[0,0,0,0,0,1,0,0,1,1,0,0,0,0,0],[0,0,0,0,0,0,1,0,0,1,1,0,0,0,0],[0,0,0,0,0,0,0,1,0,0,1,1,0,0,0],[0,0,0,0,0,0,0,0,1,0,0,1,1,0,0],[0,0,0,0,0,0,0,0,0,1,0,0,1,1,0],[0,0,0,0,0,0,0,0,0,0,1,0,0,1,1]])\n",
    "test_case_7a(\"7a.3\", Z2X(x^4 + x^3 + 1), 15, exp) \n",
    "\n",
    "exp = matrix(GF(2), [[1,0,1,0,1,1,1,0,0,0,0,0,0,0,0,0,0,0,0,0,0],[0,1,0,1,0,1,1,1,0,0,0,0,0,0,0,0,0,0,0,0,0],[0,0,1,0,1,0,1,1,1,0,0,0,0,0,0,0,0,0,0,0,0],[0,0,0,1,0,1,0,1,1,1,0,0,0,0,0,0,0,0,0,0,0],[0,0,0,0,1,0,1,0,1,1,1,0,0,0,0,0,0,0,0,0,0],[0,0,0,0,0,1,0,1,0,1,1,1,0,0,0,0,0,0,0,0,0],[0,0,0,0,0,0,1,0,1,0,1,1,1,0,0,0,0,0,0,0,0],[0,0,0,0,0,0,0,1,0,1,0,1,1,1,0,0,0,0,0,0,0],[0,0,0,0,0,0,0,0,1,0,1,0,1,1,1,0,0,0,0,0,0],[0,0,0,0,0,0,0,0,0,1,0,1,0,1,1,1,0,0,0,0,0],[0,0,0,0,0,0,0,0,0,0,1,0,1,0,1,1,1,0,0,0,0],[0,0,0,0,0,0,0,0,0,0,0,1,0,1,0,1,1,1,0,0,0],[0,0,0,0,0,0,0,0,0,0,0,0,1,0,1,0,1,1,1,0,0],[0,0,0,0,0,0,0,0,0,0,0,0,0,1,0,1,0,1,1,1,0],[0,0,0,0,0,0,0,0,0,0,0,0,0,0,1,0,1,0,1,1,1]])\n",
    "test_case_7a(\"7a.4\", Z2X(x^6 + x^5 + x^4 + x^2 + 1), 21, exp)"
   ]
  },
  {
   "cell_type": "code",
   "execution_count": 159,
   "metadata": {
    "scrolled": true
   },
   "outputs": [
    {
     "name": "stdout",
     "output_type": "stream",
     "text": [
      "Test 8a.1: True\n",
      "Test 8a.2: True\n",
      "Test 8a.3: True\n",
      "Test 8a.4: True\n"
     ]
    }
   ],
   "source": [
    "####################################################################################\n",
    "# TEST CASES EXERCICE 8a\n",
    "####################################################################################\n",
    "\n",
    "def test_case_8a(name, g, n, exp_output):    \n",
    "    r = UAB_con_matrix(g, n)\n",
    "    print \"Test\", name + \":\", exp_output == r\n",
    "\n",
    "exp = matrix(GF(2), [1,1,1,1,1,1,1,1,1,1,1,1,1,1,1])\n",
    "test_case_8a(\"8a.1\", Z2X(x+1), 15, exp) \n",
    "\n",
    "exp = matrix(GF(2), [[1,0,0,1,1,0,1,0,1,1,1,1,0,0,0],[0,1,0,0,1,1,0,1,0,1,1,1,1,0,0],[0,0,1,0,0,1,1,0,1,0,1,1,1,1,0],[0,0,0,1,0,0,1,1,0,1,0,1,1,1,1]])\n",
    "test_case_8a(\"8a.2\", Z2X(x^4 + x + 1), 15, exp)\n",
    "\n",
    "exp = matrix(GF(2), [[1,1,1,1,0,1,0,1,1,0,0,1,0,0,0],[0,1,1,1,1,0,1,0,1,1,0,0,1,0,0],[0,0,1,1,1,1,0,1,0,1,1,0,0,1,0],[0,0,0,1,1,1,1,0,1,0,1,1,0,0,1]])\n",
    "test_case_8a(\"8a.3\", Z2X(x^4 + x^3 + 1), 15, exp) \n",
    "\n",
    "exp = matrix(GF(2), [[1,1,0,1,0,0,1,1,0,0,1,0,0,1,0,1,0,0,0,0,0],[0,1,1,0,1,0,0,1,1,0,0,1,0,0,1,0,1,0,0,0,0],[0,0,1,1,0,1,0,0,1,1,0,0,1,0,0,1,0,1,0,0,0],[0,0,0,1,1,0,1,0,0,1,1,0,0,1,0,0,1,0,1,0,0],[0,0,0,0,1,1,0,1,0,0,1,1,0,0,1,0,0,1,0,1,0],[0,0,0,0,0,1,1,0,1,0,0,1,1,0,0,1,0,0,1,0,1]])\n",
    "test_case_8a(\"8a.4\", Z2X(x^6 + x^5 + x^4 + x^2 + 1), 21, exp)"
   ]
  },
  {
   "cell_type": "code",
   "execution_count": null,
   "metadata": {},
   "outputs": [],
   "source": []
  }
 ],
 "metadata": {
  "kernelspec": {
   "display_name": "SageMath 8.2",
   "language": "",
   "name": "sagemath"
  }
 },
 "nbformat": 4,
 "nbformat_minor": 1
}
